{
 "cells": [
  {
   "cell_type": "markdown",
   "metadata": {},
   "source": [
    "# Data Mining in Action, Deep Leaning\n",
    "\n",
    "## Семантическая сегментация\n",
    "\n",
    "В этом задании мы будем практиковаться в семантической сегментации. Реализуем популярную сеть для решения задачи семантической сегментации U-net, обучим её на синтетическом датасете с фигурами, оценим качество модели.\n",
    "\n",
    "В рамках задания нужно получить ответы на вопросы в этом ipynb блокноте и внести их в [гугл-форму](https://forms.gle/mVUGJQRVSSHDsveG7). Перед тем как приступать к выполнению задания не забудьте выполнить команду ```pip install -r <path_to_rep_requirements.txt>``` для того, чтобы в вашем виртуальном окружении были установлены правильные версии python пакетов."
   ]
  },
  {
   "cell_type": "code",
   "execution_count": 1,
   "metadata": {
    "ExecuteTime": {
     "end_time": "2019-03-31T20:58:16.716963Z",
     "start_time": "2019-03-31T20:58:15.920901Z"
    }
   },
   "outputs": [
    {
     "name": "stdout",
     "output_type": "stream",
     "text": [
      "Populating the interactive namespace from numpy and matplotlib\n"
     ]
    }
   ],
   "source": [
    "%pylab inline\n",
    "\n",
    "import torch\n",
    "import torchvision\n",
    "from torch.utils.data import Dataset\n",
    "from PIL import ImageDraw, Image"
   ]
  },
  {
   "cell_type": "markdown",
   "metadata": {},
   "source": [
    "Для создания моделей-сетей в `pytorch` удобно создавать класс, наследуясь от `torch.nn.Module`. В `torch.nn` содержася стандартные \"кирпичики\" для моделей (например, различные виды слоёв). В `torch.optim` содержатся оптимизаторы, а в `torch.utils.data` много необходимых сущеностей для работы с данными."
   ]
  },
  {
   "cell_type": "markdown",
   "metadata": {},
   "source": [
    "### Построение сети"
   ]
  },
  {
   "cell_type": "markdown",
   "metadata": {},
   "source": [
    "Начнём с построения сети. Для сегментации будем использовать архитекрутуру U-net."
   ]
  },
  {
   "cell_type": "markdown",
   "metadata": {},
   "source": [
    "![img](https://lmb.informatik.uni-freiburg.de/people/ronneber/u-net/u-net-architecture.png)"
   ]
  },
  {
   "cell_type": "markdown",
   "metadata": {},
   "source": [
    "Архитектура состоит из блоков (горизонтальные участки из синих прямоугольников). На примере выше сначала идёт 5 блоков кодировщика, далее 4 блока декодировщика. Между блоками кодировщика происходит уменьшение размерности в 2 раза с помощью max pooling. В декодировщике применяется upsampling и конкатенация с результатами соответствующего блока кодировщика. \n",
    "\n",
    "Давайте реализуем U-net по частям. Начнём с кодировщика. \n",
    "\n",
    "Один блок кодировщика состоит из двух последовательных сверток, активаций и батчнорма (опционально, но мы его сделаем дефолтным):"
   ]
  },
  {
   "cell_type": "code",
   "execution_count": 2,
   "metadata": {
    "ExecuteTime": {
     "end_time": "2019-03-31T20:58:17.372483Z",
     "start_time": "2019-03-31T20:58:17.360296Z"
    }
   },
   "outputs": [],
   "source": [
    "class EncoderBlock(torch.nn.Module):\n",
    "    def __init__(self, in_channels, out_channels):\n",
    "        super().__init__()\n",
    "        self.conv1 = torch.nn.Conv2d(in_channels, out_channels, 3, padding=1)\n",
    "        self.bn1 = torch.nn.BatchNorm2d(out_channels)\n",
    "        self.relu1 = torch.nn.ReLU()\n",
    "        self.conv2 = torch.nn.Conv2d(out_channels, out_channels, 3, padding=1)\n",
    "        self.bn2 = torch.nn.BatchNorm2d(out_channels)\n",
    "        self.relu2 = torch.nn.ReLU()\n",
    "\n",
    "    def forward(self, x):\n",
    "        x = self.conv1(x)\n",
    "        x = self.bn1(x)\n",
    "        x = self.relu1(x)\n",
    "        x = self.conv2(x)\n",
    "        x = self.bn2(x)\n",
    "        x = self.relu2(x)\n",
    "        return x"
   ]
  },
  {
   "cell_type": "code",
   "execution_count": 3,
   "metadata": {
    "ExecuteTime": {
     "end_time": "2019-03-31T20:58:17.601028Z",
     "start_time": "2019-03-31T20:58:17.581835Z"
    }
   },
   "outputs": [
    {
     "data": {
      "text/plain": [
       "EncoderBlock(\n",
       "  (conv1): Conv2d(3, 16, kernel_size=(3, 3), stride=(1, 1), padding=(1, 1))\n",
       "  (bn1): BatchNorm2d(16, eps=1e-05, momentum=0.1, affine=True, track_running_stats=True)\n",
       "  (relu1): ReLU()\n",
       "  (conv2): Conv2d(16, 16, kernel_size=(3, 3), stride=(1, 1), padding=(1, 1))\n",
       "  (bn2): BatchNorm2d(16, eps=1e-05, momentum=0.1, affine=True, track_running_stats=True)\n",
       "  (relu2): ReLU()\n",
       ")"
      ]
     },
     "execution_count": 3,
     "metadata": {},
     "output_type": "execute_result"
    }
   ],
   "source": [
    "block = EncoderBlock(3, 16)\n",
    "block"
   ]
  },
  {
   "cell_type": "markdown",
   "metadata": {},
   "source": [
    "Запустим на картинке с 3 каналами размера 200 на 200 (первая \"единичка\" означает число картинок в батче)."
   ]
  },
  {
   "cell_type": "code",
   "execution_count": 4,
   "metadata": {
    "ExecuteTime": {
     "end_time": "2019-03-31T20:58:18.103699Z",
     "start_time": "2019-03-31T20:58:18.037727Z"
    }
   },
   "outputs": [
    {
     "data": {
      "text/plain": [
       "torch.Size([1, 16, 200, 200])"
      ]
     },
     "execution_count": 4,
     "metadata": {},
     "output_type": "execute_result"
    }
   ],
   "source": [
    "block(torch.rand((1, 3, 200, 200))).size()"
   ]
  },
  {
   "cell_type": "markdown",
   "metadata": {},
   "source": [
    "Получается, что размерность выхода при применении блока кодировщика не изменяется. Изменяется она только на max pooling и upsampling слоях."
   ]
  },
  {
   "cell_type": "markdown",
   "metadata": {},
   "source": [
    "Теперь составим кодировщик из описанных выше блоков. Конструкция определяется входными каналами, количеством фильтров в первом блоке и количеством блоков.\n",
    "\n",
    "Помним также, что для работы сети нам нужно запоминать промежуточные активации. Здесь как раз помогает подход к построению через `add_module`, так как количество блоков переменно."
   ]
  },
  {
   "cell_type": "code",
   "execution_count": 5,
   "metadata": {
    "ExecuteTime": {
     "end_time": "2019-03-31T20:58:18.726265Z",
     "start_time": "2019-03-31T20:58:18.710822Z"
    }
   },
   "outputs": [],
   "source": [
    "class Encoder(torch.nn.Module):\n",
    "    def __init__(self, in_channels, num_filters, num_blocks):\n",
    "        super().__init__()\n",
    "        self.num_blocks = num_blocks\n",
    "        for i in range(num_blocks):\n",
    "            if i == 0: \n",
    "                in_channels =  in_channels\n",
    "                out_channels =  num_filters\n",
    "            else: \n",
    "                in_channels = out_channels\n",
    "                out_channels = num_filters\n",
    "                \n",
    "            self.add_module('block_{}_conv1'.format(i + 1), torch.nn.Conv2d(in_channels, out_channels, 3, padding=1))\n",
    "            self.add_module('block_{}_bn1'.format(i + 1), torch.nn.BatchNorm2d(out_channels))\n",
    "            self.add_module('block_{}_relu1'.format(i + 1), torch.nn.ReLU())\n",
    "            self.add_module('block_{}_conv2'.format(i + 1), torch.nn.Conv2d(out_channels, out_channels, 3, padding=1))\n",
    "            self.add_module('block_{}_bn2'.format(i + 1), torch.nn.BatchNorm2d(out_channels))\n",
    "            self.add_module('block_{}_relu2'.format(i + 1), torch.nn.ReLU())\n",
    "            \n",
    "            if i != num_blocks-1:\n",
    "                self.add_module('block_{}_maxp2d'.format(i + 1), torch.nn.MaxPool2d(2,2))\n",
    "                \n",
    "            num_filters = num_filters * 2\n",
    "            \n",
    "            # add also torch.nn.MaxPool2d(2, 2)) but not every time\n",
    "\n",
    "    def forward(self, x):\n",
    "        activations = []\n",
    "        for i in range(self.num_blocks):\n",
    "            block = self.__getattr__('block_{}_conv1'.format(i + 1))\n",
    "            x = block(x)\n",
    "            block = self.__getattr__('block_{}_bn1'.format(i + 1))\n",
    "            x = block(x)\n",
    "            block = self.__getattr__('block_{}_relu1'.format(i + 1))\n",
    "            x = block(x)\n",
    "            block = self.__getattr__('block_{}_conv2'.format(i + 1))\n",
    "            x = block(x)\n",
    "            block = self.__getattr__('block_{}_bn2'.format(i + 1))\n",
    "            x = block(x)\n",
    "            block = self.__getattr__('block_{}_relu2'.format(i + 1))\n",
    "            x = block(x)\n",
    "            activations.append(x)\n",
    "            if i != self.num_blocks - 1:\n",
    "                block = self.__getattr__('block_{}_maxp2d'.format(i + 1))\n",
    "                x = block(x)\n",
    "                \n",
    "        return activations"
   ]
  },
  {
   "cell_type": "markdown",
   "metadata": {},
   "source": [
    "Создадим кодировщик из 4 блоков, где базовая размерность будет 8."
   ]
  },
  {
   "cell_type": "code",
   "execution_count": 6,
   "metadata": {
    "ExecuteTime": {
     "end_time": "2019-03-31T20:58:19.428537Z",
     "start_time": "2019-03-31T20:58:19.200958Z"
    }
   },
   "outputs": [
    {
     "data": {
      "text/plain": [
       "Encoder(\n",
       "  (block_1_conv1): Conv2d(3, 8, kernel_size=(3, 3), stride=(1, 1), padding=(1, 1))\n",
       "  (block_1_bn1): BatchNorm2d(8, eps=1e-05, momentum=0.1, affine=True, track_running_stats=True)\n",
       "  (block_1_relu1): ReLU()\n",
       "  (block_1_conv2): Conv2d(8, 8, kernel_size=(3, 3), stride=(1, 1), padding=(1, 1))\n",
       "  (block_1_bn2): BatchNorm2d(8, eps=1e-05, momentum=0.1, affine=True, track_running_stats=True)\n",
       "  (block_1_relu2): ReLU()\n",
       "  (block_1_maxp2d): MaxPool2d(kernel_size=2, stride=2, padding=0, dilation=1, ceil_mode=False)\n",
       "  (block_2_conv1): Conv2d(8, 16, kernel_size=(3, 3), stride=(1, 1), padding=(1, 1))\n",
       "  (block_2_bn1): BatchNorm2d(16, eps=1e-05, momentum=0.1, affine=True, track_running_stats=True)\n",
       "  (block_2_relu1): ReLU()\n",
       "  (block_2_conv2): Conv2d(16, 16, kernel_size=(3, 3), stride=(1, 1), padding=(1, 1))\n",
       "  (block_2_bn2): BatchNorm2d(16, eps=1e-05, momentum=0.1, affine=True, track_running_stats=True)\n",
       "  (block_2_relu2): ReLU()\n",
       "  (block_2_maxp2d): MaxPool2d(kernel_size=2, stride=2, padding=0, dilation=1, ceil_mode=False)\n",
       "  (block_3_conv1): Conv2d(16, 32, kernel_size=(3, 3), stride=(1, 1), padding=(1, 1))\n",
       "  (block_3_bn1): BatchNorm2d(32, eps=1e-05, momentum=0.1, affine=True, track_running_stats=True)\n",
       "  (block_3_relu1): ReLU()\n",
       "  (block_3_conv2): Conv2d(32, 32, kernel_size=(3, 3), stride=(1, 1), padding=(1, 1))\n",
       "  (block_3_bn2): BatchNorm2d(32, eps=1e-05, momentum=0.1, affine=True, track_running_stats=True)\n",
       "  (block_3_relu2): ReLU()\n",
       "  (block_3_maxp2d): MaxPool2d(kernel_size=2, stride=2, padding=0, dilation=1, ceil_mode=False)\n",
       "  (block_4_conv1): Conv2d(32, 64, kernel_size=(3, 3), stride=(1, 1), padding=(1, 1))\n",
       "  (block_4_bn1): BatchNorm2d(64, eps=1e-05, momentum=0.1, affine=True, track_running_stats=True)\n",
       "  (block_4_relu1): ReLU()\n",
       "  (block_4_conv2): Conv2d(64, 64, kernel_size=(3, 3), stride=(1, 1), padding=(1, 1))\n",
       "  (block_4_bn2): BatchNorm2d(64, eps=1e-05, momentum=0.1, affine=True, track_running_stats=True)\n",
       "  (block_4_relu2): ReLU()\n",
       ")"
      ]
     },
     "execution_count": 6,
     "metadata": {},
     "output_type": "execute_result"
    }
   ],
   "source": [
    "encoder = Encoder(in_channels=3, num_filters=8, num_blocks=4)\n",
    "encoder"
   ]
  },
  {
   "cell_type": "markdown",
   "metadata": {},
   "source": [
    "Проверьте, что на изображении 256 на 256 после каждого блока кодировщика размерность уменьшается в 2 раза, а число фильтров увеличивается в 2 раза, начиная с 8."
   ]
  },
  {
   "cell_type": "code",
   "execution_count": 7,
   "metadata": {
    "ExecuteTime": {
     "end_time": "2019-03-31T20:58:21.016996Z",
     "start_time": "2019-03-31T20:58:20.997973Z"
    }
   },
   "outputs": [
    {
     "name": "stdout",
     "output_type": "stream",
     "text": [
      "torch.Size([4, 8, 256, 256])\n",
      "torch.Size([4, 16, 128, 128])\n",
      "torch.Size([4, 32, 64, 64])\n",
      "torch.Size([4, 64, 32, 32])\n"
     ]
    }
   ],
   "source": [
    "batch_X = torch.zeros(4, 3, 256, 256)\n",
    "\n",
    "for x in encoder(batch_X):\n",
    "    print(x.shape)"
   ]
  },
  {
   "cell_type": "markdown",
   "metadata": {},
   "source": [
    "**Вопрос 1: Размерность последнего слоя энкодера**\n",
    "\n",
    "Какая размерность на последнем слое (перемножьте все размерности включая размер батча). Внесите свой ответ в поле _\"Вопрос 1: Размерность последнего слоя энкодера\"_ гугл-формы этого домашнего задания."
   ]
  },
  {
   "cell_type": "markdown",
   "metadata": {},
   "source": [
    "Блок декодировщика состоит из апскейлинга входа \"снизу\", объединения двух входов и сверток как в кодировщике. Перед конкатенированием используем свёртку для уменьшения числа фильтров в 2 раза (их количество и так растёт в 2 раза в результате объединения)."
   ]
  },
  {
   "cell_type": "code",
   "execution_count": 8,
   "metadata": {
    "ExecuteTime": {
     "end_time": "2019-03-31T20:58:27.561470Z",
     "start_time": "2019-03-31T20:58:27.551415Z"
    }
   },
   "outputs": [],
   "source": [
    "class DecoderBlock(torch.nn.Module):\n",
    "    def __init__(self, out_channels):\n",
    "        super().__init__()\n",
    "        self.conv1 = torch.nn.Conv2d(out_channels * 2, out_channels, 3, padding=1)\n",
    "        self.relu1 = torch.nn.ReLU()\n",
    "        self.conv2 = torch.nn.Conv2d(out_channels * 2, out_channels, 3, padding=1)\n",
    "        self.relu2 = torch.nn.ReLU()\n",
    "        self.conv3 = torch.nn.Conv2d(out_channels, out_channels, 3, padding=1)\n",
    "        self.relu3 = torch.nn.ReLU()\n",
    "\n",
    "    def forward(self, down, left):\n",
    "        # upscale->conv+relu->concat->conv+relu->conv+relu - make it\n",
    "        x = torch.nn.functional.interpolate(down, scale_factor=2)\n",
    "        x = self.conv1(x)\n",
    "        x = self.relu1(x)\n",
    "        x = torch.cat((x, left), 1)\n",
    "        x = self.conv2(x)\n",
    "        x = self.relu2(x)\n",
    "        x = self.conv3(x)\n",
    "        x = self.relu3(x)\n",
    "        return x"
   ]
  },
  {
   "cell_type": "markdown",
   "metadata": {},
   "source": [
    "Проверим блок декодера, который отдаёт на выходе картинку толщиной в 8 фильтров."
   ]
  },
  {
   "cell_type": "code",
   "execution_count": 9,
   "metadata": {
    "ExecuteTime": {
     "end_time": "2019-03-31T20:58:27.816873Z",
     "start_time": "2019-03-31T20:58:27.809383Z"
    }
   },
   "outputs": [],
   "source": [
    "block = DecoderBlock(8)"
   ]
  },
  {
   "cell_type": "code",
   "execution_count": 10,
   "metadata": {
    "ExecuteTime": {
     "end_time": "2019-03-31T20:58:28.031972Z",
     "start_time": "2019-03-31T20:58:28.012149Z"
    }
   },
   "outputs": [
    {
     "data": {
      "text/plain": [
       "(torch.Size([4, 16, 128, 128]), torch.Size([4, 8, 256, 256]))"
      ]
     },
     "execution_count": 10,
     "metadata": {},
     "output_type": "execute_result"
    }
   ],
   "source": [
    "batch_inside = encoder(batch_X)\n",
    "batch_inside[1].shape, batch_inside[0].shape"
   ]
  },
  {
   "cell_type": "code",
   "execution_count": 11,
   "metadata": {
    "ExecuteTime": {
     "end_time": "2019-03-31T20:58:28.255355Z",
     "start_time": "2019-03-31T20:58:28.237222Z"
    }
   },
   "outputs": [
    {
     "data": {
      "text/plain": [
       "torch.Size([4, 8, 256, 256])"
      ]
     },
     "execution_count": 11,
     "metadata": {},
     "output_type": "execute_result"
    }
   ],
   "source": [
    "block(batch_inside[1], batch_inside[0]).shape"
   ]
  },
  {
   "cell_type": "markdown",
   "metadata": {},
   "source": [
    "Декодировщик собираем из таких блоков:"
   ]
  },
  {
   "cell_type": "code",
   "execution_count": 12,
   "metadata": {
    "ExecuteTime": {
     "end_time": "2019-03-31T20:58:28.562333Z",
     "start_time": "2019-03-31T20:58:28.547216Z"
    }
   },
   "outputs": [],
   "source": [
    "class Decoder(torch.nn.Module):\n",
    "    def __init__(self, num_filters, num_blocks):\n",
    "        super().__init__()\n",
    "        self.num_blocks = num_blocks\n",
    "        for i in range(num_blocks):\n",
    "            self.add_module('block_{}'.format(num_blocks - i), DecoderBlock(num_filters * 2**i))\n",
    "\n",
    "    def forward(self, activations):\n",
    "        for i in range(self.num_blocks):\n",
    "            block = self.__getattr__('block_{}'.format(i+1))\n",
    "            if i == 0:\n",
    "                down = activations[self.num_blocks-i]\n",
    "            else: down = x\n",
    "                \n",
    "            left = activations[self.num_blocks-i-1]\n",
    "            x = block(down, left)\n",
    "    \n",
    "        return x    \n",
    "        "
   ]
  },
  {
   "cell_type": "code",
   "execution_count": 13,
   "metadata": {
    "ExecuteTime": {
     "end_time": "2019-03-31T20:58:28.710063Z",
     "start_time": "2019-03-31T20:58:28.691085Z"
    }
   },
   "outputs": [],
   "source": [
    "decoder = Decoder(8, 3)"
   ]
  },
  {
   "cell_type": "code",
   "execution_count": 14,
   "metadata": {
    "ExecuteTime": {
     "end_time": "2019-03-31T20:58:28.839951Z",
     "start_time": "2019-03-31T20:58:28.821222Z"
    }
   },
   "outputs": [
    {
     "name": "stdout",
     "output_type": "stream",
     "text": [
      "torch.Size([4, 3, 256, 256])\n",
      "torch.Size([4, 8, 256, 256])\n"
     ]
    }
   ],
   "source": [
    "print(batch_X.shape)\n",
    "print(decoder(encoder(batch_X)).shape)"
   ]
  },
  {
   "cell_type": "markdown",
   "metadata": {},
   "source": [
    "U-Net состоит из такого кодировщика и декодировщика, а также финального слоя классификации:"
   ]
  },
  {
   "cell_type": "code",
   "execution_count": 15,
   "metadata": {
    "ExecuteTime": {
     "end_time": "2019-03-31T20:58:29.232764Z",
     "start_time": "2019-03-31T20:58:29.223865Z"
    }
   },
   "outputs": [],
   "source": [
    "class UNet(torch.nn.Module):\n",
    "    def __init__(self, num_classes, in_channels=3, num_filters=8, num_blocks=4):\n",
    "        super().__init__()\n",
    "        self.encoder = Encoder(in_channels, num_filters, num_blocks)\n",
    "        self.decoder = Decoder(num_filters, num_blocks-1)\n",
    "        self.final = torch.nn.Conv2d(num_filters, num_classes, 1)\n",
    "\n",
    "    def forward(self, x):\n",
    "        acts = self.encoder(x)\n",
    "        x = self.decoder(acts)\n",
    "        x = self.final(x)\n",
    "        return x"
   ]
  },
  {
   "cell_type": "code",
   "execution_count": 16,
   "metadata": {
    "ExecuteTime": {
     "end_time": "2019-03-31T20:58:29.364395Z",
     "start_time": "2019-03-31T20:58:29.338689Z"
    }
   },
   "outputs": [],
   "source": [
    "model = UNet(num_classes=6)"
   ]
  },
  {
   "cell_type": "code",
   "execution_count": 17,
   "metadata": {
    "ExecuteTime": {
     "end_time": "2019-03-31T20:58:29.671034Z",
     "start_time": "2019-03-31T20:58:29.648222Z"
    }
   },
   "outputs": [
    {
     "data": {
      "text/plain": [
       "torch.Size([4, 6, 416, 416])"
      ]
     },
     "execution_count": 17,
     "metadata": {},
     "output_type": "execute_result"
    }
   ],
   "source": [
    "device = torch.device('cuda' if torch.cuda.is_available() else 'cpu')\n",
    "model.to(device)\n",
    "\n",
    "images = torch.randn(4, 3, 416, 416).to(device)\n",
    "model(images).shape"
   ]
  },
  {
   "cell_type": "markdown",
   "metadata": {},
   "source": [
    "**Вопрос 2: Размерность на выходе всей модели** \n",
    "\n",
    "Какая размерность получилась на выходе (перемножьте все размерности, включая количество батчей)? Внесите свой ответ в поле _\"Вопрос 2:  Размерность на выходе всей модели\"_ гугл-формы этого домашнего задания."
   ]
  },
  {
   "cell_type": "markdown",
   "metadata": {},
   "source": [
    "На выходе из сети получаем бинарную маску из линейных активаций. Для обучения такой модели используются функции потерь, которые включают в себя применение активации. В вероятности их можно превращать с помощью `torch.sigmoid`."
   ]
  },
  {
   "cell_type": "markdown",
   "metadata": {},
   "source": [
    "### Данные"
   ]
  },
  {
   "cell_type": "markdown",
   "metadata": {},
   "source": [
    "Будем решать задачу семантической сегментации на синтетических данных, представляющий собой множество эллипсов, квадратов и треугольников с гауссовым шумом."
   ]
  },
  {
   "cell_type": "markdown",
   "metadata": {},
   "source": [
    "Для загрузки данных pytorch опирается на такую сущность, как `Dataset`. Этот абстрактный класс определен в `torch.utils.data.dataset`."
   ]
  },
  {
   "cell_type": "code",
   "execution_count": 18,
   "metadata": {
    "ExecuteTime": {
     "end_time": "2019-03-31T20:58:30.253993Z",
     "start_time": "2019-03-31T20:58:30.230042Z"
    }
   },
   "outputs": [],
   "source": [
    "class Figures(Dataset):\n",
    "    def __init__(self, num_images=10, num_figure=10, size_hor=200, size_ver=200,\n",
    "                 min_size=5, max_size=40, noise=False,\n",
    "                 normalize=None):\n",
    "        \n",
    "        self.images = []\n",
    "        \n",
    "        for _ in range(num_images):\n",
    "            color_background = tuple(np.random.randint(low=0, high=255, size=3))\n",
    "            image = Image.new(mode='RGB', size=(size_hor, size_ver), color=color_background)\n",
    "            draw = ImageDraw.Draw(image)\n",
    "\n",
    "            mask = Image.new(mode='1', size=(size_hor, size_ver), color=0)\n",
    "            draw_mask = ImageDraw.Draw(mask)\n",
    "            \n",
    "            for i in range(num_figure):\n",
    "                color = tuple(np.random.randint(low=0, high=255, size=3))\n",
    "                size = np.random.randint(low=min_size, high=max_size)\n",
    "                \n",
    "                xl = np.random.randint(low=0, high=size_hor-size)\n",
    "                yt = np.random.randint(low=0, high=size_ver-size)\n",
    "                xr = xl + size\n",
    "                yb = yt + size\n",
    "                \n",
    "                figure_type = np.random.choice(['circle', 'triangle', 'rectangle'])\n",
    "                if figure_type == 'circle':\n",
    "                    draw.ellipse((xl, yt, xr, yb), fill=color)\n",
    "                    draw_mask.ellipse((xl, yt, xr, yb), fill=1)\n",
    "                elif figure_type == 'rectangle':\n",
    "                    draw.rectangle((xl, yt, xr, yb), fill=color)\n",
    "                    draw_mask.rectangle((xl, yt, xr, yb), fill=1)\n",
    "                elif figure_type == 'triangle':\n",
    "                    draw.polygon((xl, yb, xr, yb, (xl + xr) / 2, yt), fill=color)\n",
    "                    draw_mask.polygon((xl, yb, xr, yb, (xl + xr) / 2, yt), fill=1)\n",
    "\n",
    "            image = torchvision.transforms.ToTensor()(image).float()\n",
    "            mask = torchvision.transforms.ToTensor()(mask).float()\n",
    "            \n",
    "            if normalize:\n",
    "                image = normalize(image)\n",
    "           \n",
    "            if noise:\n",
    "                mean, var = 0, 0.001\n",
    "                gauss = np.random.normal(mean, var ** 0.5, (3, size_hor, size_ver))\n",
    "                image = image + torch.FloatTensor(gauss)\n",
    "                \n",
    "            self.images.append({'image': image, 'mask': mask})\n",
    "\n",
    "    def __getitem__(self, index):\n",
    "        return self.images[index]\n",
    "        \n",
    "    def __len__(self):\n",
    "        return len(self.images)"
   ]
  },
  {
   "cell_type": "markdown",
   "metadata": {},
   "source": [
    "Примеры:"
   ]
  },
  {
   "cell_type": "code",
   "execution_count": 19,
   "metadata": {
    "ExecuteTime": {
     "end_time": "2019-03-31T20:58:30.642682Z",
     "start_time": "2019-03-31T20:58:30.547466Z"
    }
   },
   "outputs": [],
   "source": [
    "generator = Figures(noise=True, normalize=None)"
   ]
  },
  {
   "cell_type": "code",
   "execution_count": 20,
   "metadata": {
    "ExecuteTime": {
     "end_time": "2019-03-31T20:58:30.810032Z",
     "start_time": "2019-03-31T20:58:30.758038Z"
    }
   },
   "outputs": [
    {
     "data": {
      "image/png": "[encoded data removed]",
      "text/plain": [
       "<PIL.Image.Image image mode=RGB size=200x200 at 0x11C1BD710>"
      ]
     },
     "execution_count": 20,
     "metadata": {},
     "output_type": "execute_result"
    }
   ],
   "source": [
    "torchvision.transforms.ToPILImage()(generator[0]['image'])"
   ]
  },
  {
   "cell_type": "code",
   "execution_count": 21,
   "metadata": {
    "ExecuteTime": {
     "end_time": "2019-03-31T20:58:31.301357Z",
     "start_time": "2019-03-31T20:58:30.931260Z"
    }
   },
   "outputs": [
    {
     "data": {
      "image/png": "[encoded data removed]",
      "text/plain": [
       "<Figure size 432x288 with 1 Axes>"
      ]
     },
     "metadata": {
      "needs_background": "light"
     },
     "output_type": "display_data"
    }
   ],
   "source": [
    "plt.imshow(np.array(generator[0]['mask'][0, :, :]).reshape((200, 200)))\n",
    "plt.show()"
   ]
  },
  {
   "cell_type": "markdown",
   "metadata": {},
   "source": [
    "Посчитаем среднее и дисперсию, чтобы дальше нормализовать с такими коэффициентами:"
   ]
  },
  {
   "cell_type": "code",
   "execution_count": 22,
   "metadata": {
    "ExecuteTime": {
     "end_time": "2019-03-31T20:58:35.723885Z",
     "start_time": "2019-03-31T20:58:31.465376Z"
    }
   },
   "outputs": [],
   "source": [
    "data = Figures(num_images=1000, noise=False)\n",
    "\n",
    "image_pixels = torch.stack([ell['image'].reshape((3, -1)) for ell in data], dim=1)\n",
    "mean_ = image_pixels.reshape((3, -1)).mean(1)\n",
    "std_ = image_pixels.reshape((3, -1)).std(1)\n",
    "normalize = torchvision.transforms.Normalize(mean_, std_)"
   ]
  },
  {
   "cell_type": "markdown",
   "metadata": {},
   "source": [
    "### Обучение модели"
   ]
  },
  {
   "cell_type": "markdown",
   "metadata": {},
   "source": [
    "Для оценки качества масок будем использовать Dice.\n",
    "\n",
    "![](https://wikimedia.org/api/rest_v1/media/math/render/svg/a80a97215e1afc0b222e604af1b2099dc9363d3b)\n",
    "\n",
    "При реализации не забывайте, что на вход поступает сразу весь батч, а результат должен быть усреднением dice-score по всем изображениям батча. Не забывайте о возможных численных неустойчивостях при возможности деления на ноль."
   ]
  },
  {
   "cell_type": "code",
   "execution_count": 23,
   "metadata": {
    "ExecuteTime": {
     "end_time": "2019-03-31T20:58:35.894330Z",
     "start_time": "2019-03-31T20:58:35.877834Z"
    }
   },
   "outputs": [],
   "source": [
    "def dice_coefficient(mask, prediction):\n",
    "    eps = 1e-6\n",
    "    inter = torch.dot(mask.view(-1), prediction.view(-1))\n",
    "    union = torch.sum(mask) + torch.sum(prediction) + eps\n",
    "    coeff = (2 * inter + eps) / union\n",
    "    return coeff"
   ]
  },
  {
   "cell_type": "markdown",
   "metadata": {},
   "source": [
    "Проверим реализацию dice."
   ]
  },
  {
   "cell_type": "code",
   "execution_count": 24,
   "metadata": {
    "ExecuteTime": {
     "end_time": "2019-03-31T20:58:40.535492Z",
     "start_time": "2019-03-31T20:58:40.450586Z"
    }
   },
   "outputs": [
    {
     "data": {
      "text/plain": [
       "tensor(0.5005)"
      ]
     },
     "execution_count": 24,
     "metadata": {},
     "output_type": "execute_result"
    }
   ],
   "source": [
    "torch.manual_seed(10)\n",
    "\n",
    "test_mask = torch.randint(0, 2, size=(8, 1, 300, 300)).float()\n",
    "prediction_mask = torch.randint(0, 2, size=(8, 1, 300, 300)).float()\n",
    "\n",
    "dice_coefficient(test_mask, prediction_mask)"
   ]
  },
  {
   "cell_type": "markdown",
   "metadata": {},
   "source": [
    "**Вопрос 3: Dice Coefficient**\n",
    "\n",
    "Какой результат получился в клетке выше (ответ округлите до **четырех** знаков после запятой, например: 0.6576)? Внесите свой ответ в поле _\"Вопрос 3: Dice Coefficient\"_ гугл-формы этого домашнего задания."
   ]
  },
  {
   "cell_type": "markdown",
   "metadata": {},
   "source": [
    "Подготовим обучающую и тестовую выборки."
   ]
  },
  {
   "cell_type": "code",
   "execution_count": 25,
   "metadata": {
    "ExecuteTime": {
     "end_time": "2019-03-31T20:58:43.372755Z",
     "start_time": "2019-03-31T20:58:41.535113Z"
    }
   },
   "outputs": [
    {
     "name": "stderr",
     "output_type": "stream",
     "text": [
      "/Users/baltachev/Documents/dl_dmia_virtual_env/dl_dmia_new/lib/python3.6/site-packages/torchvision/transforms/functional.py:206: UserWarning: To copy construct from a tensor, it is recommended to use sourceTensor.clone().detach() or sourceTensor.clone().detach().requires_grad_(True), rather than torch.tensor(sourceTensor).\n",
      "  mean = torch.tensor(mean, dtype=torch.float32)\n",
      "/Users/baltachev/Documents/dl_dmia_virtual_env/dl_dmia_new/lib/python3.6/site-packages/torchvision/transforms/functional.py:207: UserWarning: To copy construct from a tensor, it is recommended to use sourceTensor.clone().detach() or sourceTensor.clone().detach().requires_grad_(True), rather than torch.tensor(sourceTensor).\n",
      "  std = torch.tensor(std, dtype=torch.float32)\n"
     ]
    }
   ],
   "source": [
    "batch_size = 8\n",
    "\n",
    "train_data_loader = torch.utils.data.DataLoader(\n",
    "    dataset=Figures(noise=False, normalize=normalize, num_images=500),\n",
    "    batch_size=batch_size, shuffle=True)\n",
    "\n",
    "test_data_loader = torch.utils.data.DataLoader(\n",
    "    dataset=Figures(noise=False, normalize=normalize, num_images=200),\n",
    "    batch_size=batch_size)\n",
    "\n",
    "train_size = len(train_data_loader.dataset)\n",
    "test_size = len(test_data_loader.dataset)"
   ]
  },
  {
   "cell_type": "markdown",
   "metadata": {},
   "source": [
    "Для обучения моделей необходимо определить функцию потерь, их примеры содержатся в модуле `torch.nn`. Сейчас для задачи бинарной сегментации нам потребуется бинарная кросс энтропия, которая на вход будет принимать не вероятности, а сырые значения (у нас сеть заканчивается линейным слоем). Найдите такую функцию."
   ]
  },
  {
   "cell_type": "code",
   "execution_count": 26,
   "metadata": {
    "ExecuteTime": {
     "end_time": "2019-03-31T20:58:43.542193Z",
     "start_time": "2019-03-31T20:58:43.530922Z"
    }
   },
   "outputs": [],
   "source": [
    "criterion = torch.nn.BCEWithLogitsLoss()\n",
    "num_epoch = 10\n",
    "\n",
    "network = UNet(num_classes=1)\n",
    "optimizer = torch.optim.Adam(network.parameters())"
   ]
  },
  {
   "cell_type": "code",
   "execution_count": 27,
   "metadata": {
    "ExecuteTime": {
     "end_time": "2019-03-31T20:58:46.425402Z",
     "start_time": "2019-03-31T20:58:46.400580Z"
    },
    "scrolled": true
   },
   "outputs": [
    {
     "name": "stdout",
     "output_type": "stream",
     "text": [
      "epoch: 0,\ttrain loss: 0.32024,\ttest loss: 0.18098,\ttest dice: 0.60546\n",
      "epoch: 1,\ttrain loss: 0.16679,\ttest loss: 0.13576,\ttest dice: 0.74156\n",
      "epoch: 2,\ttrain loss: 0.10588,\ttest loss: 0.07006,\ttest dice: 0.88087\n",
      "epoch: 3,\ttrain loss: 0.05525,\ttest loss: 0.04056,\ttest dice: 0.92895\n",
      "epoch: 4,\ttrain loss: 0.03646,\ttest loss: 0.02997,\ttest dice: 0.94552\n",
      "epoch: 5,\ttrain loss: 0.02709,\ttest loss: 0.02529,\ttest dice: 0.958\n",
      "epoch: 6,\ttrain loss: 0.02072,\ttest loss: 0.02413,\ttest dice: 0.96158\n",
      "epoch: 7,\ttrain loss: 0.0188,\ttest loss: 0.02003,\ttest dice: 0.96661\n",
      "epoch: 8,\ttrain loss: 0.01457,\ttest loss: 0.0174,\ttest dice: 0.9715\n",
      "epoch: 9,\ttrain loss: 0.01209,\ttest loss: 0.01525,\ttest dice: 0.97687\n"
     ]
    }
   ],
   "source": [
    "global_step = 0\n",
    "\n",
    "for epoch in range(num_epoch):\n",
    "    loss_train = 0\n",
    "    for i, batch in enumerate(train_data_loader):\n",
    "        # main train loop: zero gradient, forward, loss, backward, update\n",
    "        optimizer.zero_grad()\n",
    "        output = network(batch['image'])\n",
    "        loss = criterion(output, batch['mask'])\n",
    "        loss_train += batch_size * float(loss.detach())\n",
    "        loss.backward()\n",
    "        optimizer.step()\n",
    "    loss_train = loss_train / train_size\n",
    "        \n",
    "    loss_test, dice_test = 0, 0\n",
    "    for i, batch in enumerate(test_data_loader):\n",
    "        output = network(batch['image'])\n",
    "        prediction_mask = (output > 0).float()\n",
    "        loss_test += batch_size * float(criterion(output, batch['mask']).detach())\n",
    "        dice_test += batch_size * float(dice_coefficient(batch['mask'], prediction_mask).detach())\n",
    "    loss_test = loss_test / test_size\n",
    "    dice_test = dice_test / test_size\n",
    "    \n",
    "    print('epoch: {},\\ttrain loss: {},\\ttest loss: {},\\ttest dice: {}'.format(\n",
    "        epoch, round(loss_train, 5), round(loss_test, 5), round(dice_test, 5)))"
   ]
  },
  {
   "cell_type": "markdown",
   "metadata": {},
   "source": [
    "**Вопрос 4: Функция потерь на тестовой выборке**\n",
    "\n",
    "Какое значение функции потерь получилось после 10 эпох на тестовой выборке (ответ округлите до **двух** знаков после запятой, например: 0.65)? Внесите свой ответ в поле _\"Вопрос 4: Функция потерь на тестовой выборке\"_ гугл-формы этого домашнего задания."
   ]
  },
  {
   "cell_type": "markdown",
   "metadata": {},
   "source": [
    "Визуализируйте 3 произвольных картинки, их маски и предсказания сети."
   ]
  },
  {
   "cell_type": "code",
   "execution_count": 29,
   "metadata": {
    "ExecuteTime": {
     "end_time": "2019-03-31T20:58:47.734252Z",
     "start_time": "2019-03-31T20:58:47.723156Z"
    }
   },
   "outputs": [
    {
     "data": {
      "image/png": "[encoded data removed]",
      "text/plain": [
       "<Figure size 1440x1440 with 3 Axes>"
      ]
     },
     "metadata": {
      "needs_background": "light"
     },
     "output_type": "display_data"
    },
    {
     "data": {
      "image/png": "[encoded data removed]",
      "text/plain": [
       "<Figure size 1440x1440 with 3 Axes>"
      ]
     },
     "metadata": {
      "needs_background": "light"
     },
     "output_type": "display_data"
    },
    {
     "data": {
      "image/png": "[encoded data removed]",
      "text/plain": [
       "<Figure size 1440x1440 with 3 Axes>"
      ]
     },
     "metadata": {
      "needs_background": "light"
     },
     "output_type": "display_data"
    }
   ],
   "source": [
    "for i, batch in enumerate(train_data_loader):\n",
    "        img = np.array(batch['image'][0, 0, :])\n",
    "        mask = np.array(batch['mask'][0, 0, :])\n",
    "        prediction_mask = np.array( (network(batch['image']) > 0).float()[0,0,:])\n",
    "        f, axarr = plt.subplots(1,3)\n",
    "        plt.rcParams[\"figure.figsize\"] = (20,20)\n",
    "        axarr[0].imshow(img)\n",
    "        axarr[1].imshow(mask)\n",
    "        axarr[2].imshow(prediction_mask)\n",
    "        plt.show\n",
    "    \n",
    "        if i == 2: break\n",
    "            \n",
    "\n",
    "# your code"
   ]
  },
  {
   "cell_type": "markdown",
   "metadata": {},
   "source": [
    "Попробуйте увеличить `batch_size` в 4 раза и повторите обучение с теми же 10 эпохами."
   ]
  },
  {
   "cell_type": "code",
   "execution_count": 30,
   "metadata": {
    "ExecuteTime": {
     "end_time": "2019-03-31T20:58:51.301848Z",
     "start_time": "2019-03-31T20:58:48.343352Z"
    }
   },
   "outputs": [],
   "source": [
    "batch_size = 8 * 4\n",
    "\n",
    "train_data_loader = torch.utils.data.DataLoader(\n",
    "    dataset=Figures(noise=False, normalize=normalize, num_images=1000),\n",
    "    batch_size=batch_size, shuffle=True)\n",
    "\n",
    "test_data_loader = torch.utils.data.DataLoader(\n",
    "    dataset=Figures(noise=False, normalize=normalize, num_images=250),\n",
    "    batch_size=batch_size)\n",
    "\n",
    "test_size = len(test_data_loader.dataset)"
   ]
  },
  {
   "cell_type": "code",
   "execution_count": 31,
   "metadata": {
    "ExecuteTime": {
     "end_time": "2019-03-31T20:58:51.722321Z",
     "start_time": "2019-03-31T20:58:51.704700Z"
    }
   },
   "outputs": [],
   "source": [
    "criterion = torch.nn.BCEWithLogitsLoss()\n",
    "num_epoch = 10\n",
    "\n",
    "network = UNet(num_classes=1)\n",
    "optimizer = torch.optim.Adam(network.parameters())"
   ]
  },
  {
   "cell_type": "code",
   "execution_count": 32,
   "metadata": {
    "ExecuteTime": {
     "end_time": "2019-03-31T20:58:52.037734Z",
     "start_time": "2019-03-31T20:58:51.996047Z"
    },
    "scrolled": true
   },
   "outputs": [
    {
     "name": "stdout",
     "output_type": "stream",
     "text": [
      "epoch: 0,\ttrain loss: 0.82456,\ttest loss: 0.2223,\ttest dice: 0.0\n",
      "epoch: 1,\ttrain loss: 0.38133,\ttest loss: 0.16535,\ttest dice: 0.0\n",
      "epoch: 2,\ttrain loss: 0.305,\ttest loss: 0.12389,\ttest dice: 0.82202\n",
      "epoch: 3,\ttrain loss: 0.16286,\ttest loss: 0.05916,\ttest dice: 0.90716\n",
      "epoch: 4,\ttrain loss: 0.09387,\ttest loss: 0.03679,\ttest dice: 0.95956\n",
      "epoch: 5,\ttrain loss: 0.06623,\ttest loss: 0.03247,\ttest dice: 0.96511\n",
      "epoch: 6,\ttrain loss: 0.05385,\ttest loss: 0.02418,\ttest dice: 0.98116\n",
      "epoch: 7,\ttrain loss: 0.04147,\ttest loss: 0.02156,\ttest dice: 0.98851\n",
      "epoch: 8,\ttrain loss: 0.03731,\ttest loss: 0.01888,\ttest dice: 0.99336\n",
      "epoch: 9,\ttrain loss: 0.03193,\ttest loss: 0.01768,\ttest dice: 0.9974\n"
     ]
    }
   ],
   "source": [
    "global_step = 0\n",
    "\n",
    "for epoch in range(num_epoch):\n",
    "    loss_train = 0\n",
    "    for i, batch in enumerate(train_data_loader):\n",
    "        # main train loop: zero gradient, forward, loss, backward, update\n",
    "        optimizer.zero_grad()\n",
    "        output = network(batch['image'])\n",
    "        loss = criterion(output, batch['mask'])\n",
    "        loss_train += batch_size * float(loss.detach())\n",
    "        loss.backward()\n",
    "        optimizer.step()\n",
    "    loss_train = loss_train / train_size\n",
    "        \n",
    "    loss_test, dice_test = 0, 0\n",
    "    for i, batch in enumerate(test_data_loader):\n",
    "        output = network(batch['image'])\n",
    "        prediction_mask = (output > 0).float()\n",
    "        loss_test += batch_size * float(criterion(output, batch['mask']).detach())\n",
    "        dice_test += batch_size * float(dice_coefficient(batch['mask'], prediction_mask).detach())\n",
    "    loss_test = loss_test / test_size\n",
    "    dice_test = dice_test / test_size\n",
    "    \n",
    "    print('epoch: {},\\ttrain loss: {},\\ttest loss: {},\\ttest dice: {}'.format(\n",
    "        epoch, round(loss_train, 5), round(loss_test, 5), round(dice_test, 5)))"
   ]
  },
  {
   "cell_type": "markdown",
   "metadata": {},
   "source": [
    "**Вопрос 5: Dice Coefficient на тестовой выборке**\n",
    "\n",
    "Какое значение dice на тестовой выборке после 10 эпох (ответ округлите до **двух** знаков после запятой, например: 0.65)? Внесите свой ответ в поле _\"Вопрос 5: Dice Coefficient на тестовой выборке\"_ гугл-формы этого домашнего задания."
   ]
  }
 ],
 "metadata": {
  "kernelspec": {
   "display_name": "dl_dmia_new",
   "language": "python",
   "name": "dl_dmia_new"
  },
  "language_info": {
   "codemirror_mode": {
    "name": "ipython",
    "version": 3
   },
   "file_extension": ".py",
   "mimetype": "text/x-python",
   "name": "python",
   "nbconvert_exporter": "python",
   "pygments_lexer": "ipython3",
   "version": "3.6.6"
  },
  "toc": {
   "base_numbering": 1,
   "nav_menu": {},
   "number_sections": true,
   "sideBar": true,
   "skip_h1_title": false,
   "title_cell": "Table of Contents",
   "title_sidebar": "Contents",
   "toc_cell": false,
   "toc_position": {},
   "toc_section_display": true,
   "toc_window_display": false
  },
  "varInspector": {
   "cols": {
    "lenName": 16,
    "lenType": 16,
    "lenVar": 40
   },
   "kernels_config": {
    "python": {
     "delete_cmd_postfix": "",
     "delete_cmd_prefix": "del ",
     "library": "var_list.py",
     "varRefreshCmd": "print(var_dic_list())"
    },
    "r": {
     "delete_cmd_postfix": ") ",
     "delete_cmd_prefix": "rm(",
     "library": "var_list.r",
     "varRefreshCmd": "cat(var_dic_list()) "
    }
   },
   "types_to_exclude": [
    "module",
    "function",
    "builtin_function_or_method",
    "instance",
    "_Feature"
   ],
   "window_display": false
  }
 },
 "nbformat": 4,
 "nbformat_minor": 2
}
